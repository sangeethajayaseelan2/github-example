{
    "cells": [
        {
            "metadata": {},
            "cell_type": "markdown",
            "source": "# web scrapping_clustering"
        },
        {
            "metadata": {},
            "cell_type": "code",
            "source": "#importing the libraries \nimport pandas as pd\nimport numpy as np\nfrom bs4 import BeautifulSoup as bs# a Python library for pulling data out of HTML and XML files. \nimport requests as r",
            "execution_count": 1,
            "outputs": []
        },
        {
            "metadata": {},
            "cell_type": "code",
            "source": "#website url to be scrapped \nurl='https://en.wikipedia.org/wiki/List_of_postal_codes_of_Canada:_M'",
            "execution_count": 2,
            "outputs": []
        },
        {
            "metadata": {},
            "cell_type": "code",
            "source": "url2=r.get(url).text",
            "execution_count": 3,
            "outputs": []
        },
        {
            "metadata": {},
            "cell_type": "code",
            "source": "# using beautiful soup to parse the HTML/XML codes.\nsoup = bs(url2,'xml')",
            "execution_count": 4,
            "outputs": []
        },
        {
            "metadata": {},
            "cell_type": "code",
            "source": "table=soup.find('table')",
            "execution_count": 5,
            "outputs": []
        },
        {
            "metadata": {
                "scrolled": true
            },
            "cell_type": "code",
            "source": "#lists for each coloumn \npostcode=[]\nborough=[]\nneighbourhood=[]",
            "execution_count": 6,
            "outputs": []
        },
        {
            "metadata": {},
            "cell_type": "code",
            "source": "for row in table.find_all('tr'):\n    x1=-1\n    x2=-1\n    x3=-1\n    m=[]\n    m=row.text.split('\\n')\n    x1=m[1]\n    x2=m[3]\n    x3=m[5]\n    if (x1 == 'Not assigned' or x2 == 'Not assigned' or x3 == 'Not assigned'):\n        continue\n    if(x1 == -1 or x2 == -1 or x3 == -1):\n        continue\n    postcode.append(x1)\n    borough.append(x2)\n    neighbourhood.append(x3)",
            "execution_count": 7,
            "outputs": []
        },
        {
            "metadata": {},
            "cell_type": "code",
            "source": "unique_p = set(postcode)\nprint('num of unique Postal codes:', len(unique_p))\nPostcode_u      = []\nBorough_u       = []\nNeighbourhood_u = []\n\n\nfor postcode_unique_element in unique_p:\n    p_var = ''; b_var = ''; n_var = ''; \n    for postcode_idx, postcode_element in enumerate(postcode):\n        if postcode_unique_element == postcode_element:\n            p_var = postcode_element;\n            b_var = borough[postcode_idx]\n            if n_var == '': \n                n_var = neighbourhood[postcode_idx]\n            else:\n                n_var = n_var + ', ' + neighbourhood[postcode_idx]\n    Postcode_u.append(p_var)\n    Borough_u.append(b_var)\n    Neighbourhood_u.append(n_var)",
            "execution_count": 8,
            "outputs": [
                {
                    "output_type": "stream",
                    "text": "num of unique Postal codes: 104\n",
                    "name": "stdout"
                }
            ]
        },
        {
            "metadata": {},
            "cell_type": "code",
            "source": "toronto_dict = {'Postcode':Postcode_u, 'Borough':Borough_u, 'Neighbourhood':Neighbourhood_u}\ndf_toronto = pd.DataFrame.from_dict(toronto_dict)\ndf_toronto.to_csv('toronto_part1.csv')\ndf_toronto.head(14)",
            "execution_count": 9,
            "outputs": [
                {
                    "output_type": "execute_result",
                    "execution_count": 9,
                    "data": {
                        "text/plain": "   Postcode           Borough  \\\n0       M5G  Downtown Toronto   \n1       M5P   Central Toronto   \n2       M1C       Scarborough   \n3       M7A  Downtown Toronto   \n4       M1G       Scarborough   \n5       M3A        North York   \n6       M9L        North York   \n7       M5T  Downtown Toronto   \n8       M1J       Scarborough   \n9       M1E       Scarborough   \n10      M5L  Downtown Toronto   \n11      M1N       Scarborough   \n12      M4J         East York   \n13      M3H        North York   \n\n                                        Neighbourhood  \n0                                  Central Bay Street  \n1                            Forest Hill North & West  \n2            Rouge Hill / Port Union / Highland Creek  \n3        Queen's Park / Ontario Provincial Government  \n4                                              Woburn  \n5                                           Parkwoods  \n6                                       Humber Summit  \n7         Kensington Market / Chinatown / Grange Park  \n8                                 Scarborough Village  \n9                 Guildwood / Morningside / West Hill  \n10                    Commerce Court / Victoria Hotel  \n11                       Birch Cliff / Cliffside West  \n12                                       East Toronto  \n13  Bathurst Manor / Wilson Heights / Downsview North  ",
                        "text/html": "<div>\n<style scoped>\n    .dataframe tbody tr th:only-of-type {\n        vertical-align: middle;\n    }\n\n    .dataframe tbody tr th {\n        vertical-align: top;\n    }\n\n    .dataframe thead th {\n        text-align: right;\n    }\n</style>\n<table border=\"1\" class=\"dataframe\">\n  <thead>\n    <tr style=\"text-align: right;\">\n      <th></th>\n      <th>Postcode</th>\n      <th>Borough</th>\n      <th>Neighbourhood</th>\n    </tr>\n  </thead>\n  <tbody>\n    <tr>\n      <th>0</th>\n      <td>M5G</td>\n      <td>Downtown Toronto</td>\n      <td>Central Bay Street</td>\n    </tr>\n    <tr>\n      <th>1</th>\n      <td>M5P</td>\n      <td>Central Toronto</td>\n      <td>Forest Hill North &amp; West</td>\n    </tr>\n    <tr>\n      <th>2</th>\n      <td>M1C</td>\n      <td>Scarborough</td>\n      <td>Rouge Hill / Port Union / Highland Creek</td>\n    </tr>\n    <tr>\n      <th>3</th>\n      <td>M7A</td>\n      <td>Downtown Toronto</td>\n      <td>Queen's Park / Ontario Provincial Government</td>\n    </tr>\n    <tr>\n      <th>4</th>\n      <td>M1G</td>\n      <td>Scarborough</td>\n      <td>Woburn</td>\n    </tr>\n    <tr>\n      <th>5</th>\n      <td>M3A</td>\n      <td>North York</td>\n      <td>Parkwoods</td>\n    </tr>\n    <tr>\n      <th>6</th>\n      <td>M9L</td>\n      <td>North York</td>\n      <td>Humber Summit</td>\n    </tr>\n    <tr>\n      <th>7</th>\n      <td>M5T</td>\n      <td>Downtown Toronto</td>\n      <td>Kensington Market / Chinatown / Grange Park</td>\n    </tr>\n    <tr>\n      <th>8</th>\n      <td>M1J</td>\n      <td>Scarborough</td>\n      <td>Scarborough Village</td>\n    </tr>\n    <tr>\n      <th>9</th>\n      <td>M1E</td>\n      <td>Scarborough</td>\n      <td>Guildwood / Morningside / West Hill</td>\n    </tr>\n    <tr>\n      <th>10</th>\n      <td>M5L</td>\n      <td>Downtown Toronto</td>\n      <td>Commerce Court / Victoria Hotel</td>\n    </tr>\n    <tr>\n      <th>11</th>\n      <td>M1N</td>\n      <td>Scarborough</td>\n      <td>Birch Cliff / Cliffside West</td>\n    </tr>\n    <tr>\n      <th>12</th>\n      <td>M4J</td>\n      <td>East York</td>\n      <td>East Toronto</td>\n    </tr>\n    <tr>\n      <th>13</th>\n      <td>M3H</td>\n      <td>North York</td>\n      <td>Bathurst Manor / Wilson Heights / Downsview North</td>\n    </tr>\n  </tbody>\n</table>\n</div>"
                    },
                    "metadata": {}
                }
            ]
        },
        {
            "metadata": {},
            "cell_type": "code",
            "source": "",
            "execution_count": null,
            "outputs": []
        },
        {
            "metadata": {},
            "cell_type": "code",
            "source": "",
            "execution_count": null,
            "outputs": []
        }
    ],
    "metadata": {
        "kernelspec": {
            "name": "python3",
            "display_name": "Python 3.6",
            "language": "python"
        },
        "language_info": {
            "name": "python",
            "version": "3.6.9",
            "mimetype": "text/x-python",
            "codemirror_mode": {
                "name": "ipython",
                "version": 3
            },
            "pygments_lexer": "ipython3",
            "nbconvert_exporter": "python",
            "file_extension": ".py"
        }
    },
    "nbformat": 4,
    "nbformat_minor": 1
}